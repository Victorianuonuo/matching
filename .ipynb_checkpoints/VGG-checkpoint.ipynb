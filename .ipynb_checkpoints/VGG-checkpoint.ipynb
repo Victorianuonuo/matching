{
 "cells": [
  {
   "cell_type": "code",
   "execution_count": 1,
   "metadata": {},
   "outputs": [
    {
     "name": "stderr",
     "output_type": "stream",
     "text": [
      "Using TensorFlow backend.\n",
      "/Users/siqi/anaconda2/lib/python2.7/site-packages/cryptography/hazmat/primitives/constant_time.py:26: CryptographyDeprecationWarning: Support for your Python version is deprecated. The next version of cryptography will remove support. Please upgrade to a 2.7.x release that supports hmac.compare_digest as soon as possible.\n",
      "  utils.DeprecatedIn23,\n"
     ]
    }
   ],
   "source": [
    "import os\n",
    "\n",
    "from keras.preprocessing import image\n",
    "from keras.applications.vgg19 import VGG19\n",
    "from keras.applications.vgg19 import preprocess_input\n",
    "import numpy as np\n",
    "from keras.layers import merge, Input\n",
    "\n",
    "image_input = Input(shape=(224,224,3))\n",
    "\n",
    "model = VGG19(include_top=False,weights=\"imagenet\",input_tensor=image_input)\n",
    "\n",
    "#model.summary()\n",
    "\n"
   ]
  },
  {
   "cell_type": "code",
   "execution_count": 2,
   "metadata": {},
   "outputs": [],
   "source": [
    "# from PIL import Image\n",
    "# data_dir = os.listdir(\"./data\")\n",
    "# #img = Image.open('./data/1.png').convert('LA')\n",
    "# #img.save(\"./data/233.png\")\n",
    "\n",
    "# for i in data_dir:\n",
    "#   if not i.endswith(\".png\"):\n",
    "#     continue\n",
    "#   img_path =\"./data/\"+i\n",
    "#   img = Image.open(img_path).convert('LA')\n",
    "#   img.save(\"./data_gray/\"+i)\n"
   ]
  },
  {
   "cell_type": "code",
   "execution_count": 3,
   "metadata": {},
   "outputs": [
    {
     "name": "stdout",
     "output_type": "stream",
     "text": [
      "['.DS_Store', '0001.png', '0002.png', '0003.png', '0004.png', '0005.png', '0006.png', '0007.png', '0008.png', '0009.png', '0010.png', '0011.png', '0012.png', '0013.png', '0014.png', '0015.png', '0016.png', '0017.png', '0018.png', '0019.png', '0020.png', 'list.txt']\n",
      "[[-0. -0. -0. ... -0. -0. -0.]\n",
      " [-0. -0. -0. ... -0. -0. -0.]\n",
      " [-0. -0. -0. ... -0. -0. -0.]\n",
      " ...\n",
      " [-0. -0. -0. ... -0. -0. -0.]\n",
      " [-0. -0. -0. ... -0. -0. -0.]\n",
      " [-0. -0. -0. ... -0. -0. -0.]]\n"
     ]
    }
   ],
   "source": [
    "data_dir = os.listdir(\"./data\")\n",
    "data_dir.sort()\n",
    "print data_dir\n",
    "\n",
    "\n",
    "vgg19_feature_list=[]\n",
    "data_dir_new = []\n",
    "for i in data_dir:\n",
    "  if not i.endswith(\".png\"):\n",
    "    continue\n",
    "  data_dir_new.append(i)\n",
    "  img_path =\"./data/\"+i\n",
    "  img = image.load_img(img_path, target_size=(224, 224))\n",
    "  img_data = image.img_to_array(img)\n",
    "  img_data = np.expand_dims(img_data, axis=0)\n",
    "  img_data = preprocess_input(img_data)\n",
    "\n",
    "  vgg19_feature = model.predict(img_data)\n",
    "  vgg19_feature_np = np.array(vgg19_feature,dtype=\"float64\")\n",
    "  vgg19_feature_list.append(vgg19_feature_np.flatten())\n",
    "data_dir = data_dir_new\n",
    "\n",
    "vgg19_feature_list_np = np.array(vgg19_feature_list)\n",
    "\n",
    "vgg19_feature_list_np.shape\n",
    "\n",
    "print vgg19_feature_list_np\n"
   ]
  },
  {
   "cell_type": "code",
   "execution_count": 4,
   "metadata": {},
   "outputs": [],
   "source": [
    "import math\n",
    "def euclidean_distance(vector1, vector2):\n",
    "    '''calculate the euclidean distance, no numpy\n",
    "    input: numpy.arrays or lists\n",
    "    return: euclidean distance\n",
    "    '''\n",
    "    dist = [(a - b)**2 for a, b in zip(vector1, vector2)]\n",
    "    dist = math.sqrt(sum(dist))\n",
    "    return dist\n",
    "def KNN(feature, feature_list,K):\n",
    "    distances = []\n",
    "    for i,ft in enumerate(feature_list):\n",
    "        #print feature, ft, ft - feature\n",
    "        #distance = euclidean_distance(feature, ft)\n",
    "        distance = np.linalg.norm(ft - feature)\n",
    "        distances.append([distance,i,data_dir[i]])\n",
    "    distances.sort()\n",
    "    return distances[:K]\n"
   ]
  },
  {
   "cell_type": "code",
   "execution_count": 5,
   "metadata": {},
   "outputs": [
    {
     "name": "stdout",
     "output_type": "stream",
     "text": [
      "0 0001.png [[0.0, 0, '0001.png'], [1094.3219332507679, 1, '0002.png']]\n",
      "1 0002.png [[0.0, 1, '0002.png'], [1094.3219332507679, 0, '0001.png']]\n",
      "2 0003.png [[0.0, 2, '0003.png'], [1131.172848581218, 3, '0004.png']]\n",
      "3 0004.png [[0.0, 3, '0004.png'], [1131.172848581218, 2, '0003.png']]\n",
      "4 0005.png [[0.0, 4, '0005.png'], [1606.1201433751642, 3, '0004.png']]\n",
      "5 0006.png [[0.0, 5, '0006.png'], [1652.751558235913, 3, '0004.png']]\n",
      "6 0007.png [[0.0, 6, '0007.png'], [1125.8397613937736, 9, '0010.png']]\n",
      "7 0008.png [[0.0, 7, '0008.png'], [1100.4581914190398, 9, '0010.png']]\n",
      "8 0009.png [[0.0, 8, '0009.png'], [1383.729952824307, 9, '0010.png']]\n",
      "9 0010.png [[0.0, 9, '0010.png'], [1100.4581914190398, 7, '0008.png']]\n",
      "10 0011.png [[0.0, 10, '0011.png'], [1673.4291947875968, 9, '0010.png']]\n",
      "11 0012.png [[0.0, 11, '0012.png'], [1432.4866201072073, 9, '0010.png']]\n",
      "12 0013.png [[0.0, 12, '0013.png'], [1154.5149669820726, 13, '0014.png']]\n",
      "13 0014.png [[0.0, 13, '0014.png'], [1103.2414873545606, 14, '0015.png']]\n",
      "14 0015.png [[0.0, 14, '0015.png'], [1103.2414873545606, 13, '0014.png']]\n",
      "15 0016.png [[0.0, 15, '0016.png'], [1088.361994466395, 19, '0020.png']]\n",
      "16 0017.png [[0.0, 16, '0017.png'], [956.1636584918402, 18, '0019.png']]\n",
      "17 0018.png [[0.0, 17, '0018.png'], [1316.189349185759, 15, '0016.png']]\n",
      "18 0019.png [[0.0, 18, '0019.png'], [956.1636584918402, 16, '0017.png']]\n",
      "19 0020.png [[0.0, 19, '0020.png'], [1031.0167874537444, 16, '0017.png']]\n"
     ]
    }
   ],
   "source": [
    "for i,feature in enumerate(vgg19_feature_list_np):\n",
    "    #distances = KNN(feature, vgg19_feature_list_np, len(vgg19_feature_list_np))\n",
    "    distances = KNN(feature, vgg19_feature_list_np, 2)\n",
    "    print i, data_dir[i], distances"
   ]
  },
  {
   "cell_type": "code",
   "execution_count": null,
   "metadata": {},
   "outputs": [],
   "source": []
  },
  {
   "cell_type": "code",
   "execution_count": null,
   "metadata": {},
   "outputs": [],
   "source": []
  }
 ],
 "metadata": {
  "kernelspec": {
   "display_name": "Python 2",
   "language": "python",
   "name": "python2"
  },
  "language_info": {
   "codemirror_mode": {
    "name": "ipython",
    "version": 2
   },
   "file_extension": ".py",
   "mimetype": "text/x-python",
   "name": "python",
   "nbconvert_exporter": "python",
   "pygments_lexer": "ipython2",
   "version": "2.7.3"
  }
 },
 "nbformat": 4,
 "nbformat_minor": 2
}
